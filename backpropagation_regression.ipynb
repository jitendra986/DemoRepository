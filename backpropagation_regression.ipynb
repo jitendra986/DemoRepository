{
  "nbformat": 4,
  "nbformat_minor": 0,
  "metadata": {
    "colab": {
      "provenance": [],
      "authorship_tag": "ABX9TyNnKfQfonjoFPE9u0QDEkjm",
      "include_colab_link": true
    },
    "kernelspec": {
      "name": "python3",
      "display_name": "Python 3"
    },
    "language_info": {
      "name": "python"
    }
  },
  "cells": [
    {
      "cell_type": "markdown",
      "metadata": {
        "id": "view-in-github",
        "colab_type": "text"
      },
      "source": [
        "<a href=\"https://colab.research.google.com/github/jitendra986/DemoRepository/blob/master/backpropagation_regression.ipynb\" target=\"_parent\"><img src=\"https://colab.research.google.com/assets/colab-badge.svg\" alt=\"Open In Colab\"/></a>"
      ]
    },
    {
      "cell_type": "code",
      "execution_count": 1,
      "metadata": {
        "id": "O7-q7IVa8JWg"
      },
      "outputs": [],
      "source": [
        "import numpy as np\n",
        "import pandas as pd"
      ]
    },
    {
      "cell_type": "code",
      "source": [
        "df = pd.DataFrame([[8,8,4],[7,9,5],[6,10,6],[5,12,7]], columns=['cgpa','profile_score','lpa'])"
      ],
      "metadata": {
        "id": "SQqNtar99gbz"
      },
      "execution_count": 2,
      "outputs": []
    },
    {
      "cell_type": "code",
      "source": [
        "df"
      ],
      "metadata": {
        "colab": {
          "base_uri": "https://localhost:8080/",
          "height": 175
        },
        "id": "eLcHAZ2096XO",
        "outputId": "5e223978-df79-4546-c50e-e6ec5ae6204f"
      },
      "execution_count": 3,
      "outputs": [
        {
          "output_type": "execute_result",
          "data": {
            "text/plain": [
              "   cgpa  profile_score  lpa\n",
              "0     8              8    4\n",
              "1     7              9    5\n",
              "2     6             10    6\n",
              "3     5             12    7"
            ],
            "text/html": [
              "\n",
              "  <div id=\"df-7e95e111-02f1-48ea-925b-280178f5e230\">\n",
              "    <div class=\"colab-df-container\">\n",
              "      <div>\n",
              "<style scoped>\n",
              "    .dataframe tbody tr th:only-of-type {\n",
              "        vertical-align: middle;\n",
              "    }\n",
              "\n",
              "    .dataframe tbody tr th {\n",
              "        vertical-align: top;\n",
              "    }\n",
              "\n",
              "    .dataframe thead th {\n",
              "        text-align: right;\n",
              "    }\n",
              "</style>\n",
              "<table border=\"1\" class=\"dataframe\">\n",
              "  <thead>\n",
              "    <tr style=\"text-align: right;\">\n",
              "      <th></th>\n",
              "      <th>cgpa</th>\n",
              "      <th>profile_score</th>\n",
              "      <th>lpa</th>\n",
              "    </tr>\n",
              "  </thead>\n",
              "  <tbody>\n",
              "    <tr>\n",
              "      <th>0</th>\n",
              "      <td>8</td>\n",
              "      <td>8</td>\n",
              "      <td>4</td>\n",
              "    </tr>\n",
              "    <tr>\n",
              "      <th>1</th>\n",
              "      <td>7</td>\n",
              "      <td>9</td>\n",
              "      <td>5</td>\n",
              "    </tr>\n",
              "    <tr>\n",
              "      <th>2</th>\n",
              "      <td>6</td>\n",
              "      <td>10</td>\n",
              "      <td>6</td>\n",
              "    </tr>\n",
              "    <tr>\n",
              "      <th>3</th>\n",
              "      <td>5</td>\n",
              "      <td>12</td>\n",
              "      <td>7</td>\n",
              "    </tr>\n",
              "  </tbody>\n",
              "</table>\n",
              "</div>\n",
              "      <button class=\"colab-df-convert\" onclick=\"convertToInteractive('df-7e95e111-02f1-48ea-925b-280178f5e230')\"\n",
              "              title=\"Convert this dataframe to an interactive table.\"\n",
              "              style=\"display:none;\">\n",
              "        \n",
              "  <svg xmlns=\"http://www.w3.org/2000/svg\" height=\"24px\"viewBox=\"0 0 24 24\"\n",
              "       width=\"24px\">\n",
              "    <path d=\"M0 0h24v24H0V0z\" fill=\"none\"/>\n",
              "    <path d=\"M18.56 5.44l.94 2.06.94-2.06 2.06-.94-2.06-.94-.94-2.06-.94 2.06-2.06.94zm-11 1L8.5 8.5l.94-2.06 2.06-.94-2.06-.94L8.5 2.5l-.94 2.06-2.06.94zm10 10l.94 2.06.94-2.06 2.06-.94-2.06-.94-.94-2.06-.94 2.06-2.06.94z\"/><path d=\"M17.41 7.96l-1.37-1.37c-.4-.4-.92-.59-1.43-.59-.52 0-1.04.2-1.43.59L10.3 9.45l-7.72 7.72c-.78.78-.78 2.05 0 2.83L4 21.41c.39.39.9.59 1.41.59.51 0 1.02-.2 1.41-.59l7.78-7.78 2.81-2.81c.8-.78.8-2.07 0-2.86zM5.41 20L4 18.59l7.72-7.72 1.47 1.35L5.41 20z\"/>\n",
              "  </svg>\n",
              "      </button>\n",
              "      \n",
              "  <style>\n",
              "    .colab-df-container {\n",
              "      display:flex;\n",
              "      flex-wrap:wrap;\n",
              "      gap: 12px;\n",
              "    }\n",
              "\n",
              "    .colab-df-convert {\n",
              "      background-color: #E8F0FE;\n",
              "      border: none;\n",
              "      border-radius: 50%;\n",
              "      cursor: pointer;\n",
              "      display: none;\n",
              "      fill: #1967D2;\n",
              "      height: 32px;\n",
              "      padding: 0 0 0 0;\n",
              "      width: 32px;\n",
              "    }\n",
              "\n",
              "    .colab-df-convert:hover {\n",
              "      background-color: #E2EBFA;\n",
              "      box-shadow: 0px 1px 2px rgba(60, 64, 67, 0.3), 0px 1px 3px 1px rgba(60, 64, 67, 0.15);\n",
              "      fill: #174EA6;\n",
              "    }\n",
              "\n",
              "    [theme=dark] .colab-df-convert {\n",
              "      background-color: #3B4455;\n",
              "      fill: #D2E3FC;\n",
              "    }\n",
              "\n",
              "    [theme=dark] .colab-df-convert:hover {\n",
              "      background-color: #434B5C;\n",
              "      box-shadow: 0px 1px 3px 1px rgba(0, 0, 0, 0.15);\n",
              "      filter: drop-shadow(0px 1px 2px rgba(0, 0, 0, 0.3));\n",
              "      fill: #FFFFFF;\n",
              "    }\n",
              "  </style>\n",
              "\n",
              "      <script>\n",
              "        const buttonEl =\n",
              "          document.querySelector('#df-7e95e111-02f1-48ea-925b-280178f5e230 button.colab-df-convert');\n",
              "        buttonEl.style.display =\n",
              "          google.colab.kernel.accessAllowed ? 'block' : 'none';\n",
              "\n",
              "        async function convertToInteractive(key) {\n",
              "          const element = document.querySelector('#df-7e95e111-02f1-48ea-925b-280178f5e230');\n",
              "          const dataTable =\n",
              "            await google.colab.kernel.invokeFunction('convertToInteractive',\n",
              "                                                     [key], {});\n",
              "          if (!dataTable) return;\n",
              "\n",
              "          const docLinkHtml = 'Like what you see? Visit the ' +\n",
              "            '<a target=\"_blank\" href=https://colab.research.google.com/notebooks/data_table.ipynb>data table notebook</a>'\n",
              "            + ' to learn more about interactive tables.';\n",
              "          element.innerHTML = '';\n",
              "          dataTable['output_type'] = 'display_data';\n",
              "          await google.colab.output.renderOutput(dataTable, element);\n",
              "          const docLink = document.createElement('div');\n",
              "          docLink.innerHTML = docLinkHtml;\n",
              "          element.appendChild(docLink);\n",
              "        }\n",
              "      </script>\n",
              "    </div>\n",
              "  </div>\n",
              "  "
            ]
          },
          "metadata": {},
          "execution_count": 3
        }
      ]
    },
    {
      "cell_type": "code",
      "source": [
        "def initialize_parameters(layer_dims):\n",
        "  np.random.seed(3)\n",
        "  parameters = {}\n",
        "  L = len(layer_dims)\n",
        "\n",
        "  for i in range(1,L):\n",
        "    parameters['W'+str(i)] = np.ones((layer_dims[i-1], layer_dims[i]))*0.1\n",
        "    parameters['b'+str(i)] = np.zeros((layer_dims[i], 1))\n",
        "\n",
        "  return parameters"
      ],
      "metadata": {
        "id": "JawpCLhj-KkC"
      },
      "execution_count": 4,
      "outputs": []
    },
    {
      "cell_type": "code",
      "source": [
        "initialize_parameters([2,2,1])"
      ],
      "metadata": {
        "colab": {
          "base_uri": "https://localhost:8080/"
        },
        "id": "3hqAqJ23BIi3",
        "outputId": "5a85a6b4-d224-456c-b628-588a8bdbcbc7"
      },
      "execution_count": 5,
      "outputs": [
        {
          "output_type": "execute_result",
          "data": {
            "text/plain": [
              "{'W1': array([[0.1, 0.1],\n",
              "        [0.1, 0.1]]),\n",
              " 'b1': array([[0.],\n",
              "        [0.]]),\n",
              " 'W2': array([[0.1],\n",
              "        [0.1]]),\n",
              " 'b2': array([[0.]])}"
            ]
          },
          "metadata": {},
          "execution_count": 5
        }
      ]
    },
    {
      "cell_type": "code",
      "source": [
        "# L =[2,2,1]\n",
        "# #w1 = np.ones((L[1],L[2]))*0.1\n",
        "# #w1\n",
        "# x=len(L)//2\n",
        "# x"
      ],
      "metadata": {
        "id": "jymBKliJBPBW"
      },
      "execution_count": 6,
      "outputs": []
    },
    {
      "cell_type": "code",
      "source": [
        "def linear_forward(A_prev,W,b):\n",
        "  Z = np.dot(W.T, A_prev) +b\n",
        "  return Z\n"
      ],
      "metadata": {
        "id": "nqn0BixuBpqr"
      },
      "execution_count": 7,
      "outputs": []
    },
    {
      "cell_type": "code",
      "source": [
        "#Forward Propagation\n",
        "def L_layer_forward(X, parameters):\n",
        "\n",
        "  A=X\n",
        "  L = len(parameters)//2\n",
        "\n",
        "  for i in range(1, L+1):\n",
        "    A_prev = A\n",
        "    Wi = parameters['W'+str(i)]\n",
        "    bi = parameters['b'+str(i)]\n",
        "\n",
        "    # print(\"A\"+str(i-1)+\": \", A_prev)\n",
        "    # print(\"W\"+str(i)+\": \", Wi)\n",
        "    # print(\"b\"+str(i)+\": \", bi)\n",
        "    # print(\"--\"*20)\n",
        "\n",
        "\n",
        "    A = linear_forward(A_prev,Wi, bi)\n",
        "    # print(\"A\"+str(i)+\": \", A)\n",
        "    # print(\"**\"*20)\n",
        "\n",
        "  return A, A_prev\n"
      ],
      "metadata": {
        "id": "pGkaWHcwFVVH"
      },
      "execution_count": 8,
      "outputs": []
    },
    {
      "cell_type": "code",
      "source": [
        "# 1st Student\n",
        "x = df[['cgpa', 'profile_score']].values[0].reshape(2,1) # Shape (no of features, no. of training example)\n",
        "y = df[['lpa']].values[0][0]\n",
        "\n",
        "x"
      ],
      "metadata": {
        "colab": {
          "base_uri": "https://localhost:8080/"
        },
        "id": "wP3iYWAjaB4X",
        "outputId": "92d083df-421a-46d2-a37c-799ae7d523f1"
      },
      "execution_count": 9,
      "outputs": [
        {
          "output_type": "execute_result",
          "data": {
            "text/plain": [
              "array([[8],\n",
              "       [8]])"
            ]
          },
          "metadata": {},
          "execution_count": 9
        }
      ]
    },
    {
      "cell_type": "code",
      "source": [
        "# Parameter initialization\n",
        "parameters = initialize_parameters([2,2,1])\n",
        "#x # gives first two values of first row\n",
        "#y # will give predicted value\n",
        "y_hat,A1=L_layer_forward(x, parameters)"
      ],
      "metadata": {
        "id": "1gGLe0gPo2PA"
      },
      "execution_count": 10,
      "outputs": []
    },
    {
      "cell_type": "code",
      "source": [
        "(y-0.32)**2"
      ],
      "metadata": {
        "colab": {
          "base_uri": "https://localhost:8080/"
        },
        "id": "DcVDWCfSa77j",
        "outputId": "365be929-7e95-4065-bedb-5906354687e9"
      },
      "execution_count": 11,
      "outputs": [
        {
          "output_type": "execute_result",
          "data": {
            "text/plain": [
              "13.5424"
            ]
          },
          "metadata": {},
          "execution_count": 11
        }
      ]
    },
    {
      "cell_type": "code",
      "source": [
        "y_hat = y_hat[0][0]"
      ],
      "metadata": {
        "id": "z71gXCqQ0yxZ"
      },
      "execution_count": 12,
      "outputs": []
    },
    {
      "cell_type": "code",
      "source": [
        "def update_parameters(parameters,y,y_hat,A1,x):\n",
        "  parameters['W2'][0][0]=parameters['W2'][0][0] + (0.001*2*(y-y_hat)*A1[0][0])\n",
        "  parameters['W2'][1][0]=parameters['W2'][1][0] + (0.001*2*(y-y_hat)*A1[1][0])\n",
        "  parameters['b2'][0][0]=parameters['W2'][1][0] + (0.001*2*(y-y_hat))\n",
        "\n",
        "  parameters['W1'][0][0]=parameters['W1'][0][0] + (0.001*2*(y-y_hat)*parameters['W2'][0][0]*x[0][0])\n",
        "  parameters['W1'][0][1]=parameters['W1'][0][1] + (0.001*2*(y-y_hat)*parameters['W2'][0][0]*x[1][0])\n",
        "  parameters['b1'][0][0]=parameters['b1'][0][0] + (0.001*2*(y-y_hat)*parameters['W2'][0][0])\n",
        "\n",
        "  parameters['W1'][1][0]=parameters['W1'][1][0] + (0.001*2*(y-y_hat)*parameters['W2'][1][0]*x[0][0])\n",
        "  parameters['W1'][1][1]=parameters['W1'][1][1] + (0.001*2*(y-y_hat)*parameters['W2'][1][0]*x[1][0])\n",
        "  parameters['b1'][1][0]=parameters['b1'][1][0] + (0.001*2*(y-y_hat)*parameters['W2'][1][0])"
      ],
      "metadata": {
        "id": "8TDDZ1qigk8A"
      },
      "execution_count": 13,
      "outputs": []
    },
    {
      "cell_type": "code",
      "source": [
        "update_parameters(parameters,y,y_hat,A1,x)"
      ],
      "metadata": {
        "id": "yT3c66Rw7MRx"
      },
      "execution_count": 14,
      "outputs": []
    },
    {
      "cell_type": "code",
      "source": [
        "parameters"
      ],
      "metadata": {
        "colab": {
          "base_uri": "https://localhost:8080/"
        },
        "id": "102EhaOh7eFR",
        "outputId": "287281af-154a-49e5-f65f-0502bf2ea00f"
      },
      "execution_count": 15,
      "outputs": [
        {
          "output_type": "execute_result",
          "data": {
            "text/plain": [
              "{'W1': array([[0.10658137, 0.10658137],\n",
              "        [0.10658137, 0.10658137]]),\n",
              " 'b1': array([[0.00082267],\n",
              "        [0.00082267]]),\n",
              " 'W2': array([[0.111776],\n",
              "        [0.111776]]),\n",
              " 'b2': array([[0.119136]])}"
            ]
          },
          "metadata": {},
          "execution_count": 15
        }
      ]
    },
    {
      "cell_type": "code",
      "source": [
        "#2nd student\n",
        "x = df[['cgpa', 'profile_score']].values[1].reshape(2,1) # Shape (no of features, no. of training example)\n",
        "y = df[['lpa']].values[1][0]\n",
        "\n",
        "#y # will give predicted value\n",
        "y_hat,A1=L_layer_forward(x, parameters)"
      ],
      "metadata": {
        "id": "r5JBMwEU7iOZ"
      },
      "execution_count": 16,
      "outputs": []
    },
    {
      "cell_type": "code",
      "source": [
        "update_parameters(parameters,y,y_hat,A1,x)"
      ],
      "metadata": {
        "id": "tnGv-8GY8UUX"
      },
      "execution_count": 17,
      "outputs": []
    },
    {
      "cell_type": "code",
      "source": [
        "parameters"
      ],
      "metadata": {
        "colab": {
          "base_uri": "https://localhost:8080/"
        },
        "id": "394vji568bzo",
        "outputId": "85f0cf2a-ef42-44ff-cb91-e74d39e7a399"
      },
      "execution_count": 18,
      "outputs": [
        {
          "output_type": "execute_result",
          "data": {
            "text/plain": [
              "{'W1': array([[0.11458955, 0.1168776 ],\n",
              "        [0.11458955, 0.1168776 ]]),\n",
              " 'b1': array([[0.0019667],\n",
              "        [0.0019667]]),\n",
              " 'W2': array([[0.12712927],\n",
              "        [0.12712927]]),\n",
              " 'b2': array([[0.13612818]])}"
            ]
          },
          "metadata": {},
          "execution_count": 18
        }
      ]
    },
    {
      "cell_type": "code",
      "source": [
        "#3rd student\n",
        "x = df[['cgpa', 'profile_score']].values[2].reshape(2,1) # Shape (no of features, no. of training example)\n",
        "y = df[['lpa']].values[2][0]\n",
        "\n",
        "#y # will give predicted value\n",
        "y_hat,A1=L_layer_forward(x, parameters)"
      ],
      "metadata": {
        "id": "1bHWZ-_h8eaB"
      },
      "execution_count": 19,
      "outputs": []
    },
    {
      "cell_type": "code",
      "source": [
        "update_parameters(parameters,y,y_hat,A1,x)"
      ],
      "metadata": {
        "id": "gd28Gsnw8_zr"
      },
      "execution_count": 20,
      "outputs": []
    },
    {
      "cell_type": "code",
      "source": [
        "parameters"
      ],
      "metadata": {
        "colab": {
          "base_uri": "https://localhost:8080/"
        },
        "id": "V77BZ6Se9CaN",
        "outputId": "3eee76dd-a504-4d90-d197-0d2ac99f5f16"
      },
      "execution_count": 21,
      "outputs": [
        {
          "output_type": "execute_result",
          "data": {
            "text/plain": [
              "{'W1': array([[0.12409711, 0.13272353],\n",
              "        [0.12412266, 0.13276611]]),\n",
              " 'b1': array([[0.00355129],\n",
              "        [0.00355555]]),\n",
              " 'W2': array([[0.14692424],\n",
              "        [0.14731907]]),\n",
              " 'b2': array([[0.15810417]])}"
            ]
          },
          "metadata": {},
          "execution_count": 21
        }
      ]
    },
    {
      "cell_type": "code",
      "source": [
        "#4th Student\n",
        "x = df[['cgpa', 'profile_score']].values[3].reshape(2,1) # Shape (no of features, no. of training example)\n",
        "y = df[['lpa']].values[3][0]\n",
        "\n",
        "#y # will give predicted value\n",
        "y_hat,A1=L_layer_forward(x, parameters)"
      ],
      "metadata": {
        "id": "g7T2qBio9EPM"
      },
      "execution_count": 22,
      "outputs": []
    },
    {
      "cell_type": "code",
      "source": [
        "update_parameters(parameters,y,y_hat,A1,x)"
      ],
      "metadata": {
        "id": "QSgJsqlO9UKX"
      },
      "execution_count": 23,
      "outputs": []
    },
    {
      "cell_type": "code",
      "source": [
        "parameters"
      ],
      "metadata": {
        "colab": {
          "base_uri": "https://localhost:8080/"
        },
        "id": "gMF_G18_9Vn8",
        "outputId": "8386874b-a554-478f-e59c-ad68502342da"
      },
      "execution_count": 24,
      "outputs": [
        {
          "output_type": "execute_result",
          "data": {
            "text/plain": [
              "{'W1': array([[0.13482804, 0.15847776],\n",
              "        [0.1349909 , 0.15884991]]),\n",
              " 'b1': array([[0.00569748],\n",
              "        [0.0057292 ]]),\n",
              " 'W2': array([[0.17312488],\n",
              "        [0.17534027]]),\n",
              " 'b2': array([[0.18773702]])}"
            ]
          },
          "metadata": {},
          "execution_count": 24
        }
      ]
    },
    {
      "cell_type": "code",
      "source": [
        "#epoch implementation\n",
        "\n",
        "parameters = initialize_parameters([2,2,1])\n",
        "\n",
        "epochs =10\n",
        "\n",
        "for i in range(epochs):\n",
        "  Loss = []\n",
        "\n",
        "  for j in range(df.shape[0]):\n",
        "    x = df[['cgpa', 'profile_score']].values[j].reshape(2,1) # Shape (no of features, no. of training example)\n",
        "    y = df[['lpa']].values[j][0]\n",
        "\n",
        "    # Parameter initialization\n",
        "\n",
        "    y_hat,A1=L_layer_forward(x, parameters)\n",
        "    y_hat = y_hat[0][0]\n",
        "\n",
        "    update_parameters(parameters,y,y_hat,A1,x)\n",
        "    Loss.append((y-y_hat)**2)\n",
        "\n",
        "  print('Epoch -', i+1, 'Loss -',np.array(Loss).mean())\n",
        "\n",
        "parameters"
      ],
      "metadata": {
        "colab": {
          "base_uri": "https://localhost:8080/"
        },
        "id": "FO4mrcQm9Xkk",
        "outputId": "504563d9-a345-4989-d80a-f5e86d18ce09"
      },
      "execution_count": 25,
      "outputs": [
        {
          "output_type": "stream",
          "name": "stdout",
          "text": [
            "Epoch - 1 Loss - 25.321744156025517\n",
            "Epoch - 2 Loss - 18.320004165722047\n",
            "Epoch - 3 Loss - 9.473661050729628\n",
            "Epoch - 4 Loss - 3.2520938634031613\n",
            "Epoch - 5 Loss - 1.3407132589299962\n",
            "Epoch - 6 Loss - 1.1726178458115697\n",
            "Epoch - 7 Loss - 1.2331289135532644\n",
            "Epoch - 8 Loss - 1.2686856723180788\n",
            "Epoch - 9 Loss - 1.282007891421992\n",
            "Epoch - 10 Loss - 1.2866806711744867\n"
          ]
        },
        {
          "output_type": "execute_result",
          "data": {
            "text/plain": [
              "{'W1': array([[0.251385  , 0.42030991],\n",
              "        [0.26250745, 0.45149331]]),\n",
              " 'b1': array([[0.02847052],\n",
              "        [0.03098528]]),\n",
              " 'W2': array([[0.42075476],\n",
              "        [0.49891207]]),\n",
              " 'b2': array([[0.50135566]])}"
            ]
          },
          "metadata": {},
          "execution_count": 25
        }
      ]
    },
    {
      "cell_type": "code",
      "source": [],
      "metadata": {
        "id": "gTbK49hD_bFE"
      },
      "execution_count": 25,
      "outputs": []
    }
  ]
}